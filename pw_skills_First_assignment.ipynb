{
  "nbformat": 4,
  "nbformat_minor": 0,
  "metadata": {
    "colab": {
      "provenance": []
    },
    "kernelspec": {
      "name": "python3",
      "display_name": "Python 3"
    },
    "language_info": {
      "name": "python"
    }
  },
  "cells": [
    {
      "cell_type": "markdown",
      "source": [
        "1.Explain the key featres of Python that make it popular choice for programming language?\n",
        "\n",
        "\n",
        "1.Simple and Readable Syntax:\n",
        "python code is clean and easy to understand ,which makes it a great language for beginners and increases prodctivity for experienced developers\n",
        "\n",
        "2.Interpreted language:\n",
        "Python runs code line by line using an interpreter,which makes debugging easier and faster since errors can be caught as they happen\n",
        "\n",
        "3.Object oriented andFunctional:\n",
        "Python supports multiple programming,include object -oriented,functional,procedural stlyes\n",
        "Python is sed in different fields like Web Development,Data science,M.l,A.I,Automation ,scripting,Finance,gaming."
      ],
      "metadata": {
        "id": "UBT_Hx5MTld7"
      }
    },
    {
      "cell_type": "code",
      "source": [],
      "metadata": {
        "id": "1ffhiY-wdBtv"
      },
      "execution_count": null,
      "outputs": []
    },
    {
      "cell_type": "markdown",
      "source": [
        "2.Describe the role of predefined keywords in python and provideexamples of how they are used in a program\n",
        "\n",
        "  control flow: Keywords like if,else,elif,for,while break,continu.e and return are used to control the order in which statements are executed in a program.They allow for decision making and repetition.\n",
        "  "
      ],
      "metadata": {
        "id": "x4VJq8otXvgR"
      }
    },
    {
      "cell_type": "code",
      "source": [
        "a = 10\n",
        "if a > 7:\n",
        "  print(\"a is greater than 7\")\n",
        "else:\n",
        "  print(\"a is 7 or less\")"
      ],
      "metadata": {
        "colab": {
          "base_uri": "https://localhost:8080/"
        },
        "id": "yrXh_gJcdEuE",
        "outputId": "7be29fa7-e064-4118-92a6-45f373c5bc72"
      },
      "execution_count": 1,
      "outputs": [
        {
          "output_type": "stream",
          "name": "stdout",
          "text": [
            "a is greater than 7\n"
          ]
        }
      ]
    },
    {
      "cell_type": "markdown",
      "source": [
        "2.Function and class Definitions\n",
        "1.def- to define a function\n",
        "2.class- to define a class\n",
        "3.retrn- to return a value from function"
      ],
      "metadata": {
        "id": "vI4xxyeOeUM-"
      }
    },
    {
      "cell_type": "code",
      "source": [
        "def greet(name):\n",
        "  return \"hello,\" + name\n",
        "\n",
        "print(greet(\"sahana\"))\n",
        "\n"
      ],
      "metadata": {
        "colab": {
          "base_uri": "https://localhost:8080/"
        },
        "id": "h4Lbsvmoe0Et",
        "outputId": "88f90b0e-b02d-4708-dc06-848907cc5162"
      },
      "execution_count": 2,
      "outputs": [
        {
          "output_type": "stream",
          "name": "stdout",
          "text": [
            "hello,sahana\n"
          ]
        }
      ]
    },
    {
      "cell_type": "markdown",
      "source": [
        "3.Exception Handling\n",
        "\n",
        "Try except finally raise are some keywords in this"
      ],
      "metadata": {
        "id": "E8BePv_sfsHL"
      }
    },
    {
      "cell_type": "code",
      "source": [
        "try:\n",
        "  result = 10/0\n",
        "except ZeroDivisionError:\n",
        "  print(\"you can't divide by zero.\")"
      ],
      "metadata": {
        "colab": {
          "base_uri": "https://localhost:8080/"
        },
        "id": "0w6fUrsFf_X8",
        "outputId": "fff79b31-81a7-4513-81aa-14d0b5bc523f"
      },
      "execution_count": 14,
      "outputs": [
        {
          "output_type": "stream",
          "name": "stdout",
          "text": [
            "you can't divide by zero.\n"
          ]
        }
      ]
    },
    {
      "cell_type": "markdown",
      "source": [
        "4.variable scope and Declaration\n",
        "Global,nonlocal"
      ],
      "metadata": {
        "id": "0uWzoXACghRI"
      }
    },
    {
      "cell_type": "code",
      "source": [
        "\n",
        "def outer():\n",
        "  a = \"outer\"\n",
        "  def inner():\n",
        "      nonlocal a\n",
        "      a = \"inner\"\n",
        "  inner()\n",
        "  print(a)\n",
        "\n",
        ""
      ],
      "metadata": {
        "id": "yC-T2un6gsBj"
      },
      "execution_count": 17,
      "outputs": []
    },
    {
      "cell_type": "markdown",
      "source": [
        "5.Boolean and null values\n",
        "True false none\n"
      ],
      "metadata": {
        "id": "aCmrIhvriHYQ"
      }
    },
    {
      "cell_type": "code",
      "source": [
        "True -False"
      ],
      "metadata": {
        "colab": {
          "base_uri": "https://localhost:8080/"
        },
        "id": "ODeRLgxwiG-8",
        "outputId": "8e327fe3-09a2-490b-c820-7f6ecac2088d"
      },
      "execution_count": 18,
      "outputs": [
        {
          "output_type": "execute_result",
          "data": {
            "text/plain": [
              "1"
            ]
          },
          "metadata": {},
          "execution_count": 18
        }
      ]
    },
    {
      "cell_type": "code",
      "source": [
        "f = None\n",
        "type(f)"
      ],
      "metadata": {
        "colab": {
          "base_uri": "https://localhost:8080/"
        },
        "id": "UAEo57OZiTD3",
        "outputId": "c0768986-475e-4c70-dd4e-ab8e11f1b837"
      },
      "execution_count": 19,
      "outputs": [
        {
          "output_type": "execute_result",
          "data": {
            "text/plain": [
              "NoneType"
            ]
          },
          "metadata": {},
          "execution_count": 19
        }
      ]
    },
    {
      "cell_type": "markdown",
      "source": [
        "3.Compare and constrast mutable and immutableobjects in python with examples?\n",
        "Mutable Objects:\n",
        "can be changed after creation\n",
        "changing the object doesn't change its identity(memory address)\n",
        "useful when you want to update or modify data without creating a new object."
      ],
      "metadata": {
        "id": "l5EsgcyzjDfF"
      }
    },
    {
      "cell_type": "code",
      "source": [
        "list_cont = [1,2,4.3,2+5j,4.3,True,\"suudha\"]\n",
        "list_cont"
      ],
      "metadata": {
        "colab": {
          "base_uri": "https://localhost:8080/"
        },
        "id": "2bp5xv0jkRmf",
        "outputId": "850decc1-4362-4573-f8d0-cdaf33bc7855"
      },
      "execution_count": 20,
      "outputs": [
        {
          "output_type": "execute_result",
          "data": {
            "text/plain": [
              "[1, 2, 4.3, (2+5j), 4.3, True, 'suudha']"
            ]
          },
          "metadata": {},
          "execution_count": 20
        }
      ]
    },
    {
      "cell_type": "code",
      "source": [
        "list_cont[6] =\"arun\"\n",
        "list_cont\n",
        "\n",
        "\n",
        "\n",
        "\n",
        "\n",
        "\n",
        "\n",
        "\n",
        "\n",
        "\n",
        "\n",
        "\n",
        "\n",
        "\n",
        "\n",
        "\n",
        "\n",
        "\n"
      ],
      "metadata": {
        "colab": {
          "base_uri": "https://localhost:8080/"
        },
        "id": "e93W5xplkuL7",
        "outputId": "b7776381-0ef8-4dcd-ccc9-008d82407fac"
      },
      "execution_count": 21,
      "outputs": [
        {
          "output_type": "execute_result",
          "data": {
            "text/plain": [
              "[1, 2, 4.3, (2+5j), 4.3, True, 'arun']"
            ]
          },
          "metadata": {},
          "execution_count": 21
        }
      ]
    },
    {
      "cell_type": "markdown",
      "source": [
        "Immutable Objects:\n",
        "1.cannot be changed after creation\n",
        "2.Any operation that seems to change the object actually creates a new object\n",
        "3.useful for fixed data ensuring consistency\n",
        "Ex:string,float,int,tuple"
      ],
      "metadata": {
        "id": "G_vHOus-lLig"
      }
    },
    {
      "cell_type": "code",
      "source": [
        "a = \"arunkumar\"\n",
        "a"
      ],
      "metadata": {
        "colab": {
          "base_uri": "https://localhost:8080/",
          "height": 35
        },
        "id": "KC1No8xjmmCK",
        "outputId": "2de78db3-2681-4b59-d96a-f6c66c19dc28"
      },
      "execution_count": 22,
      "outputs": [
        {
          "output_type": "execute_result",
          "data": {
            "text/plain": [
              "'arunkumar'"
            ],
            "application/vnd.google.colaboratory.intrinsic+json": {
              "type": "string"
            }
          },
          "metadata": {},
          "execution_count": 22
        }
      ]
    },
    {
      "cell_type": "code",
      "source": [
        "a[5] = \"seetha\"\n",
        "a"
      ],
      "metadata": {
        "colab": {
          "base_uri": "https://localhost:8080/",
          "height": 158
        },
        "id": "rjLIXv1emt03",
        "outputId": "4e070a1d-bc3c-4fd9-ba0f-efd61cbce3b1"
      },
      "execution_count": 23,
      "outputs": [
        {
          "output_type": "error",
          "ename": "TypeError",
          "evalue": "'str' object does not support item assignment",
          "traceback": [
            "\u001b[0;31m---------------------------------------------------------------------------\u001b[0m",
            "\u001b[0;31mTypeError\u001b[0m                                 Traceback (most recent call last)",
            "\u001b[0;32m<ipython-input-23-a641125d3ee9>\u001b[0m in \u001b[0;36m<cell line: 0>\u001b[0;34m()\u001b[0m\n\u001b[0;32m----> 1\u001b[0;31m \u001b[0ma\u001b[0m\u001b[0;34m[\u001b[0m\u001b[0;36m5\u001b[0m\u001b[0;34m]\u001b[0m \u001b[0;34m=\u001b[0m \u001b[0;34m\"seetha\"\u001b[0m\u001b[0;34m\u001b[0m\u001b[0;34m\u001b[0m\u001b[0m\n\u001b[0m\u001b[1;32m      2\u001b[0m \u001b[0ma\u001b[0m\u001b[0;34m\u001b[0m\u001b[0;34m\u001b[0m\u001b[0m\n",
            "\u001b[0;31mTypeError\u001b[0m: 'str' object does not support item assignment"
          ]
        }
      ]
    },
    {
      "cell_type": "markdown",
      "source": [],
      "metadata": {
        "id": "OfdMnYIOnT3Z"
      }
    },
    {
      "cell_type": "markdown",
      "source": [
        "4. Discuss the different types of operators in Python and provide examples of how they are used?"
      ],
      "metadata": {
        "id": "93PqkyGmnYOj"
      }
    },
    {
      "cell_type": "markdown",
      "source": [
        "python supports different types of operators,which are used to perform operations on variables and values.arthimetic operators,assignment operators,comparision operators,logical operators,bitwise operators,special operators.\n",
        "\n",
        "1.Arthimetic Operators\n",
        "Arithmetic operators are used to perform mathematical operations like addition, subtraction, multiplication, etc. For example,\n",
        "In the above example, we have used multiple arithmetic operators,\n",
        "\n",
        "+\tAddition\t5 + 2 = 7\n",
        "-\tSubtraction\t4 - 2 = 2\n",
        "*\tMultiplication\t2 * 3 = 6\n",
        "/\tDivision\t4 / 2 = 2\n",
        "//\tFloor Division\t10 // 3 = 3\n",
        "%\tModulo\t5 % 2 = 1\n",
        "**\tPower\t4 ** 2 = 16\n"
      ],
      "metadata": {
        "id": "tQZDIlfD1JX0"
      }
    },
    {
      "cell_type": "code",
      "source": [
        "a = 7\n",
        "b = 2\n",
        "\n",
        "# addition\n",
        "print ('Sum: ', a + b)\n",
        "\n",
        "# subtraction\n",
        "print ('Subtraction: ', a - b)\n",
        "\n",
        "# multiplication\n",
        "print ('Multiplication: ', a * b)\n",
        "\n",
        "# division\n",
        "print ('Division: ', a / b)\n",
        "\n",
        "# floor division\n",
        "print ('Floor Division: ', a // b)\n",
        "\n",
        "# modulo\n",
        "print ('Modulo: ', a % b)\n",
        "\n",
        "# a to the power b\n",
        "print ('Power: ', a ** b)"
      ],
      "metadata": {
        "colab": {
          "base_uri": "https://localhost:8080/"
        },
        "id": "72wMPKKc2s2g",
        "outputId": "cbdda951-176e-4c57-80fa-b15a2a047833"
      },
      "execution_count": 24,
      "outputs": [
        {
          "output_type": "stream",
          "name": "stdout",
          "text": [
            "Sum:  9\n",
            "Subtraction:  5\n",
            "Multiplication:  14\n",
            "Division:  3.5\n",
            "Floor Division:  3\n",
            "Modulo:  1\n",
            "Power:  49\n"
          ]
        }
      ]
    },
    {
      "cell_type": "markdown",
      "source": [
        "2.python Assignment operators:\n",
        "used to assign values to variables\n",
        "Operator\tName\tExample\n",
        "\n",
        "=\tAssignment Operator\ta = 7\n",
        "+=\tAddition Assignment\ta += 1 # a = a + 1\n",
        "-=\tSubtraction Assignment\ta -= 3 # a = a - 3\n",
        "*=\tMultiplication Assignment\ta *= 4 # a = a * 4\n",
        "/=\tDivision Assignment\ta /= 3 # a = a / 3\n",
        "%=\tRemainder Assignment\ta %= 10 # a = a % 10\n",
        "**=\tExponent Assignment\ta **= 10 # a = a ** 10"
      ],
      "metadata": {
        "id": "i9ZdfloI3ZDT"
      }
    },
    {
      "cell_type": "code",
      "source": [
        "# assign 10 to a\n",
        "a = 10\n",
        "\n",
        "# assign 5 to b\n",
        "b = 5\n",
        "\n",
        "# assign the sum of a and b to a\n",
        "a += b      # a = a + b\n",
        "\n",
        "print(a)\n",
        "\n"
      ],
      "metadata": {
        "colab": {
          "base_uri": "https://localhost:8080/"
        },
        "id": "QLi9d-ei4Xqp",
        "outputId": "afe8b89e-4085-41ca-a114-011612a5cfd8"
      },
      "execution_count": 25,
      "outputs": [
        {
          "output_type": "stream",
          "name": "stdout",
          "text": [
            "15\n"
          ]
        }
      ]
    },
    {
      "cell_type": "markdown",
      "source": [
        "Here, we have used the += operator to assign the sum of a and b to a.\n",
        "\n",
        "Similarly, we can use any other assignment operators as per our needs.\n",
        "\n"
      ],
      "metadata": {
        "id": "ISniYOxB5DK3"
      }
    },
    {
      "cell_type": "markdown",
      "source": [
        "3.Python Comparison Operators\n",
        "Comparison operators compare two values/variables and return a boolean result: True or false\n",
        "\n",
        "Operator\tMeaning\tExample\n",
        "==\tIs Equal To\t3 == 5 gives us False\n",
        "!=\tNot Equal To\t3 != 5 gives us True\n",
        ">\tGreater Than\t3 > 5 gives us False\n",
        "<\tLess Than\t3 < 5 gives us True\n",
        ">=\tGreater Than or Equal To\t3 >= 5 give us False\n",
        "<=\tLess Than or Equal To\t3 <= 5 gives us True\n",
        "For Example:"
      ],
      "metadata": {
        "id": "NfaFnizR5Km9"
      }
    },
    {
      "cell_type": "code",
      "source": [
        "a = 5\n",
        "\n",
        "b = 2\n",
        "\n",
        "# equal to operator\n",
        "print('a == b =', a == b)\n",
        "\n",
        "# not equal to operator\n",
        "print('a != b =', a != b)\n",
        "\n",
        "# greater than operator\n",
        "print('a > b =', a > b)\n",
        "\n",
        "# less than operator\n",
        "print('a < b =', a < b)\n",
        "\n",
        "# greater than or equal to operator\n",
        "print('a >= b =', a >= b)\n",
        "\n",
        "# less than or equal to operator\n",
        "print('a <= b =', a <= b)"
      ],
      "metadata": {
        "colab": {
          "base_uri": "https://localhost:8080/"
        },
        "id": "Uj2DUyDJ8coL",
        "outputId": "6fbeb694-83b6-430c-8ffd-a7a58528f560"
      },
      "execution_count": 27,
      "outputs": [
        {
          "output_type": "stream",
          "name": "stdout",
          "text": [
            "a == b = False\n",
            "a != b = True\n",
            "a > b = True\n",
            "a < b = False\n",
            "a >= b = True\n",
            "a <= b = False\n"
          ]
        }
      ]
    },
    {
      "cell_type": "markdown",
      "source": [
        "4.Logical operators are used to check whether an expression is True or False. They are used in decision-making. For example,\n",
        "\n",
        " Operator\tExample\tMeaning\n",
        "and\ta and b\tLogical AND:\n",
        "True only if both the operands are True\n",
        "or\ta or b\tLogical OR:\n",
        "True if at least one of the operands is True\n",
        "not\tnot a\tLogical NOT:\n",
        "True if the operand is False and vice-versa."
      ],
      "metadata": {
        "id": "zwE972p98wNw"
      }
    },
    {
      "cell_type": "code",
      "source": [
        "# logical AND\n",
        "print(True and True)\n",
        "print(True and False)\n",
        "\n",
        "# logical OR\n",
        "print(True or False)\n",
        "\n",
        "# logical NOT\n",
        "print(not True)"
      ],
      "metadata": {
        "colab": {
          "base_uri": "https://localhost:8080/"
        },
        "id": "Jh1_qSTP-yRZ",
        "outputId": "f35bbeed-fb5c-45d5-eed1-35ec0183f303"
      },
      "execution_count": 28,
      "outputs": [
        {
          "output_type": "stream",
          "name": "stdout",
          "text": [
            "True\n",
            "False\n",
            "True\n",
            "False\n"
          ]
        }
      ]
    },
    {
      "cell_type": "markdown",
      "source": [
        "5.Bitwise operators act on operands as if they were strings of binary digits. They operate bit by bit,\n",
        "\n",
        "For example, 2 is 10 in binary, and 7 is 111\n",
        "In the table below: Let x = 10 (0000 1010 in binary) and y = 4 (0000 0100 in binary)\n",
        "\n",
        "Operator\tMeaning\tExample\n",
        "&\tBitwise AND\tx & y = 0 (0000 0000)\n",
        "|\tBitwise OR\tx | y = 14 (0000 1110)\n",
        "~\tBitwise NOT\t~x = -11 (1111 0101)\n",
        "^\tBitwise XOR\tx ^ y = 14 (0000 1110)\n",
        ">>\tBitwise right shift\tx >> 2 = 2 (0000 0010)\n",
        "<<\tBitwise left shift\tx 0010 1000)"
      ],
      "metadata": {
        "id": "NWnWKhtY_rel"
      }
    },
    {
      "cell_type": "markdown",
      "source": [
        "Operator\tMeaning\tExample\n",
        "&\tBitwise AND\tx & y = 0 (0000 0000)\n",
        "|\tBitwise OR\tx | y = 14 (0000 1110)\n",
        "~\tBitwise NOT\t~x = -11 (1111 0101)\n",
        "^\tBitwise XOR\tx ^ y = 14 (0000 1110)\n",
        ">>\tBitwise right shift\tx >> 2 = 2 (0000 0010)\n",
        "<<\tBitwise left shift\tx 0010 1000)"
      ],
      "metadata": {
        "id": "ehzP_qO7_rEt"
      }
    },
    {
      "cell_type": "markdown",
      "source": [
        "6. Python Special operators\n",
        "\n",
        "Python language offers some special types of operators like the identity operator and the membership operator. They are described below with examples.\n",
        "\n",
        "Identity operators\n",
        "In Python, is and is not are used to check if two values are located at the same memory location.\n",
        "\n",
        "It's important to note that having two variables with equal values doesn't necessarily mean they are identical.\n",
        "\n",
        "Operator\t Meaning \tExample\n",
        "is\t True if the operands are identical (refer to the same object)\tx is True\n",
        "is not\tTrue if the operands are not identical (do not refer to the same object)\tx is not True\n",
        "\n"
      ],
      "metadata": {
        "id": "WshfemeeBJX_"
      }
    },
    {
      "cell_type": "code",
      "source": [
        "x1 = 5\n",
        "y1 = 5\n",
        "x2 = 'Hello'\n",
        "y2 = 'Hello'\n",
        "x3 = [1,2,3]\n",
        "y3 = [1,2,3]\n",
        "\n",
        "print(x1 is not y1)\n",
        "\n",
        "print(x2 is y2)\n",
        "\n",
        "print(x3 is y3)"
      ],
      "metadata": {
        "colab": {
          "base_uri": "https://localhost:8080/"
        },
        "id": "rW5LdkEvBmGE",
        "outputId": "f251ee8e-8e8b-4d6a-830a-3dfc413ce381"
      },
      "execution_count": 29,
      "outputs": [
        {
          "output_type": "stream",
          "name": "stdout",
          "text": [
            "False\n",
            "True\n",
            "False\n"
          ]
        }
      ]
    },
    {
      "cell_type": "markdown",
      "source": [
        "Here, we see that x1 and y1 are integers of the same values, so they are equal as well as identical. The same is the case with x2 and y2 (strings).\n",
        "\n",
        "But x3 and y3 are lists. They are equal but not identical. It is because the interpreter locates them separately in memory, although they are equal."
      ],
      "metadata": {
        "id": "Jihrx1STBsj5"
      }
    },
    {
      "cell_type": "markdown",
      "source": [
        "Membership operators\n",
        "\n",
        "In Python, in and not in are the membership operators. They are used to test whether a value or variable is found in a sequence (string, list, tuple, set and dictionary).\n",
        "\n",
        "\n",
        "In a dictionary, we can only test for the presence of a key, not the value."
      ],
      "metadata": {
        "id": "P0q4hXBZByf0"
      }
    },
    {
      "cell_type": "markdown",
      "source": [
        "Operator \t            Meaning\t                                      Example       \n",
        "in\t       True if value/variable is found in the sequence\t     5 in x\n",
        "not in\t   True if value/variable is not found in the sequence\t 5 not in x\n"
      ],
      "metadata": {
        "id": "MCnPvOizB-1E"
      }
    },
    {
      "cell_type": "code",
      "source": [
        "message = 'Hello world'\n",
        "dict1 = {1:'a', 2:'b'}\n",
        "\n",
        "# check if 'H' is present in message string\n",
        "print('H' in message)  # prints True\n",
        "\n",
        "# check if 'hello' is present in message string\n",
        "print('hello' not in message)  # prints True\n",
        "\n",
        "# check if '1' key is present in dict1\n",
        "print(1 in dict1)  # prints True\n",
        "\n",
        "# check if 'a' key is present in dict1\n",
        "print('a' in dict1)  # prints False\n"
      ],
      "metadata": {
        "colab": {
          "base_uri": "https://localhost:8080/"
        },
        "id": "eYAZtu-jCBMz",
        "outputId": "d0d293cf-23a2-420e-f4ba-137f29de4eb8"
      },
      "execution_count": 30,
      "outputs": [
        {
          "output_type": "stream",
          "name": "stdout",
          "text": [
            "True\n",
            "True\n",
            "True\n",
            "False\n"
          ]
        }
      ]
    },
    {
      "cell_type": "markdown",
      "source": [
        "5. Explain the concept of type casting in Python with examples\n",
        "\n",
        "The conversion of one data type into other data type is called type casting.\n",
        "It is also known as type conversion.This is common when you need to perform operations involving different data types.\n",
        "\n",
        "Python Implicit Type Conversion\n",
        "In some situations, Python automatically converts one data type to another. This is known as implicit type conversion.\n",
        "\n",
        "\n",
        " Converting integer to float\n",
        "Let's see an example where Python promotes the conversion of the lower data type (integer) to the higher data type (float) to avoid data loss.\n",
        "\n"
      ],
      "metadata": {
        "id": "0hvdjoqpFdNo"
      }
    },
    {
      "cell_type": "code",
      "source": [
        "integer_number = 123\n",
        "float_number = 1.23\n",
        "\n",
        "new_number = integer_number + float_number\n",
        "\n",
        "# display new value and resulting data type\n",
        "print(\"Value:\",new_number)\n",
        "print(\"Data Type:\",type(new_number))"
      ],
      "metadata": {
        "colab": {
          "base_uri": "https://localhost:8080/"
        },
        "id": "lqTmeU2sURwK",
        "outputId": "7f902ac2-ee44-469f-8a23-a2ecc3dbe994"
      },
      "execution_count": 31,
      "outputs": [
        {
          "output_type": "stream",
          "name": "stdout",
          "text": [
            "Value: 124.23\n",
            "Data Type: <class 'float'>\n"
          ]
        }
      ]
    },
    {
      "cell_type": "markdown",
      "source": [
        "In the above example, we have created two variables: integer_number and float_number of int and float type respectively.\n",
        "\n",
        "Then we added these two variables and stored the result in new_number\n",
        "As we can see new_number has value 124.23 and is of the float data type.\n",
        "\n",
        "It is because Python always converts smaller data types to larger data types to avoid the loss of data."
      ],
      "metadata": {
        "id": "yyTANpU-Ungw"
      }
    },
    {
      "cell_type": "markdown",
      "source": [
        "Explicit Type Conversion\n",
        "In Explicit Type Conversion, users convert the data type of an object to required data type.\n",
        "\n",
        "We use the built-in functions like int(), float(), str(), etc to perform explicit type conversion.\n",
        "\n",
        "This type of conversion is also called typecasting because the user casts (changes) the data type of the objects."
      ],
      "metadata": {
        "id": "TC0oNQ3PUuVs"
      }
    },
    {
      "cell_type": "code",
      "source": [
        "num_string = '12'\n",
        "num_integer = 23\n",
        "\n",
        "print(\"Data type of num_string before Type Casting:\",type(num_string))\n",
        "\n",
        "# explicit type conversion\n",
        "num_string = int(num_string)\n",
        "\n",
        "print(\"Data type of num_string after Type Casting:\",type(num_string))\n",
        "\n",
        "num_sum = num_integer + num_string\n",
        "\n",
        "print(\"Sum:\",num_sum)\n",
        "print(\"Data type of num_sum:\",type(num_sum))"
      ],
      "metadata": {
        "colab": {
          "base_uri": "https://localhost:8080/"
        },
        "id": "kohFz4YSVHHq",
        "outputId": "0466fa36-9d7c-494d-ace8-04d87ab3d712"
      },
      "execution_count": 32,
      "outputs": [
        {
          "output_type": "stream",
          "name": "stdout",
          "text": [
            "Data type of num_string before Type Casting: <class 'str'>\n",
            "Data type of num_string after Type Casting: <class 'int'>\n",
            "Sum: 35\n",
            "Data type of num_sum: <class 'int'>\n"
          ]
        }
      ]
    },
    {
      "cell_type": "markdown",
      "source": [
        "In the above example, we have created two variables: num_string and num_integer with str and int type values respectively.\n",
        "\n",
        "Here, we have used int() to perform explicit type conversion of num_string to integer type.\n",
        "\n",
        "After converting num_string to an integer value, Python is able to add these two variables.\n",
        "\n",
        "Finally, we got the num_sum value i.e 35 and data type to be int."
      ],
      "metadata": {
        "id": "D9fTmOmDVTOj"
      }
    },
    {
      "cell_type": "markdown",
      "source": [
        "6.How do conditional statements work in python illustrate with example.\n",
        "\n",
        "conditional statements are used to make decisions in code. based on whether a condition is true or false,different blocks of code are executed.\n",
        "\n",
        "1.if statement\n",
        "Execute the block of code if the condition is true.\n"
      ],
      "metadata": {
        "id": "xtNo33wrVb8y"
      }
    },
    {
      "cell_type": "code",
      "source": [
        "a = 20\n",
        "if a > 10:\n",
        "  print(\"a is greater than 10\")\n",
        "\n"
      ],
      "metadata": {
        "colab": {
          "base_uri": "https://localhost:8080/"
        },
        "id": "XfJo-2qzYow0",
        "outputId": "5085a266-a82a-4eed-fa83-f7fa95479e85"
      },
      "execution_count": 33,
      "outputs": [
        {
          "output_type": "stream",
          "name": "stdout",
          "text": [
            "a is greater than 10\n"
          ]
        }
      ]
    },
    {
      "cell_type": "markdown",
      "source": [
        "2.it else statement\n",
        " adds an alternative block if  the  condition is false"
      ],
      "metadata": {
        "id": "KptURvvTZMnT"
      }
    },
    {
      "cell_type": "code",
      "source": [
        "b = 5\n",
        "if b > 9:\n",
        "  print(\"b is greater than 9\")\n",
        "else:\n",
        "  print(\"b is 9 or less\")"
      ],
      "metadata": {
        "colab": {
          "base_uri": "https://localhost:8080/"
        },
        "id": "nUvMf-yFZd59",
        "outputId": "5208a22b-09dc-41f6-9170-bbaa0e134b44"
      },
      "execution_count": 35,
      "outputs": [
        {
          "output_type": "stream",
          "name": "stdout",
          "text": [
            "b is 9 or less\n"
          ]
        }
      ]
    },
    {
      "cell_type": "markdown",
      "source": [
        "if elif statement\n",
        "used when we have multiple condition to check\n"
      ],
      "metadata": {
        "id": "xcabfWRwaDb-"
      }
    },
    {
      "cell_type": "code",
      "source": [
        "x = 7\n",
        "if x > 12:\n",
        "  print(\"x is greater than 12\")\n",
        "elif x == 7:\n",
        "  print(\"x is equal to 7\")\n",
        "else:\n",
        "  print(\"x is less than 12 and not equal to 7\")"
      ],
      "metadata": {
        "colab": {
          "base_uri": "https://localhost:8080/"
        },
        "id": "E7uPVfgBaRwj",
        "outputId": "2fb45766-1b86-4c68-89f7-29a155748357"
      },
      "execution_count": 37,
      "outputs": [
        {
          "output_type": "stream",
          "name": "stdout",
          "text": [
            "x is equal to 7\n"
          ]
        }
      ]
    },
    {
      "cell_type": "markdown",
      "source": [
        "nested if\n",
        "an if statement inside another if statement\n"
      ],
      "metadata": {
        "id": "uq_eMD6abYlg"
      }
    },
    {
      "cell_type": "code",
      "source": [
        "c = 25\n",
        "if c > 20:\n",
        "  if c < 30:\n",
        "    print(\"c is between 20 and 30\")\n",
        ""
      ],
      "metadata": {
        "colab": {
          "base_uri": "https://localhost:8080/"
        },
        "id": "N3s-aW5Xbh_i",
        "outputId": "005ab7e0-f143-4851-8983-526ddd5dd0cc"
      },
      "execution_count": 38,
      "outputs": [
        {
          "output_type": "stream",
          "name": "stdout",
          "text": [
            "c is between 20 and 30\n"
          ]
        }
      ]
    },
    {
      "cell_type": "markdown",
      "source": [
        "7. Describe the different types of loops in Python and their use cases with examples."
      ],
      "metadata": {
        "id": "VkzSuYOVcCxh"
      }
    },
    {
      "cell_type": "markdown",
      "source": [
        "loops in python\n",
        "loops are uused to execute a block of code repeatedly.python spports mainly two types of loops\n",
        "\n",
        "1.FOR Loop\n",
        "Used to iterate over a seqence like list,tuple,string or a range of numbers\n",
        "syn\n",
        "for variable in sequence:\n",
        "    # code block"
      ],
      "metadata": {
        "id": "wZiD1YkDcJG9"
      }
    },
    {
      "cell_type": "code",
      "source": [
        "colors =[\"white\", \"blue\", \"black\"]\n",
        "for color in colors:\n",
        "  print(color)"
      ],
      "metadata": {
        "colab": {
          "base_uri": "https://localhost:8080/"
        },
        "id": "N-S9Uv-RdAAA",
        "outputId": "012cc782-0855-42e2-ca77-70d9ec49d87e"
      },
      "execution_count": 39,
      "outputs": [
        {
          "output_type": "stream",
          "name": "stdout",
          "text": [
            "white\n",
            "blue\n",
            "black\n"
          ]
        }
      ]
    },
    {
      "cell_type": "markdown",
      "source": [
        "use case\n",
        "iterating through items in a list or string.\n",
        "performing a fixed number of repetitions using range()"
      ],
      "metadata": {
        "id": "DSy9pgK9dhHK"
      }
    },
    {
      "cell_type": "code",
      "source": [
        "# print numbers 1 to 5\n",
        "for i in range(1, 7):\n",
        "  print(i)"
      ],
      "metadata": {
        "colab": {
          "base_uri": "https://localhost:8080/"
        },
        "id": "p8V7ras9dvEx",
        "outputId": "e47b0c56-441d-4389-af2c-75c7b8f076e1"
      },
      "execution_count": 40,
      "outputs": [
        {
          "output_type": "stream",
          "name": "stdout",
          "text": [
            "1\n",
            "2\n",
            "3\n",
            "4\n",
            "5\n",
            "6\n"
          ]
        }
      ]
    },
    {
      "cell_type": "markdown",
      "source": [
        "2.while loop\n",
        "Repeats as long as acondition is true\n",
        "\n",
        "Syntax\n",
        "while conditiom:\n",
        "    # code block"
      ],
      "metadata": {
        "id": "3XnoktyUeBDV"
      }
    },
    {
      "cell_type": "code",
      "source": [
        "s = 2\n",
        "while s <= 6:\n",
        "  print(s)\n",
        "  s += 2\n",
        "\n",
        ""
      ],
      "metadata": {
        "colab": {
          "base_uri": "https://localhost:8080/"
        },
        "id": "9CGJfqH0eSkF",
        "outputId": "558a4107-fc3f-4a34-c669-5ace57bf7932"
      },
      "execution_count": 41,
      "outputs": [
        {
          "output_type": "stream",
          "name": "stdout",
          "text": [
            "2\n",
            "4\n",
            "6\n"
          ]
        }
      ]
    },
    {
      "cell_type": "markdown",
      "source": [
        "use cases repeating tasks  until a certain condition changes waiting for user input or a status  to change\n"
      ],
      "metadata": {
        "id": "dfP2zpUketPW"
      }
    },
    {
      "cell_type": "markdown",
      "source": [
        "3. Nested loops\n",
        "loops are formed inside of the loops"
      ],
      "metadata": {
        "id": "cVsGbHGFe4V0"
      }
    },
    {
      "cell_type": "code",
      "source": [
        "for i in range(1, 4):\n",
        "  for j in range(1, 4):\n",
        "       print(f\"i = {i}\", f\"j = {j}\")"
      ],
      "metadata": {
        "colab": {
          "base_uri": "https://localhost:8080/"
        },
        "id": "cxQFmsa-e-VR",
        "outputId": "05d37351-e974-47ad-a653-8e0d2fa5ee37"
      },
      "execution_count": 45,
      "outputs": [
        {
          "output_type": "stream",
          "name": "stdout",
          "text": [
            "i = 1 j = 1\n",
            "i = 1 j = 2\n",
            "i = 1 j = 3\n",
            "i = 2 j = 1\n",
            "i = 2 j = 2\n",
            "i = 2 j = 3\n",
            "i = 3 j = 1\n",
            "i = 3 j = 2\n",
            "i = 3 j = 3\n"
          ]
        }
      ]
    },
    {
      "cell_type": "markdown",
      "source": [
        "loop control statements\n",
        "break - exists the loop\n",
        "continue skips to the next iteration\n",
        "pass does nothing (uses as place holder)"
      ],
      "metadata": {
        "id": "SQYPzZg8gIau"
      }
    },
    {
      "cell_type": "code",
      "source": [
        "for i in range(1, 10):\n",
        "    if i == 5:\n",
        "      break\n",
        "    print(i)"
      ],
      "metadata": {
        "colab": {
          "base_uri": "https://localhost:8080/"
        },
        "id": "2sfC7X79gXUV",
        "outputId": "008c2ac0-6cab-41b6-e610-0fdf92cc6791"
      },
      "execution_count": 46,
      "outputs": [
        {
          "output_type": "stream",
          "name": "stdout",
          "text": [
            "1\n",
            "2\n",
            "3\n",
            "4\n"
          ]
        }
      ]
    }
  ]
}